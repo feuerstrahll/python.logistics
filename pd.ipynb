{
 "cells": [
  {
   "cell_type": "code",
   "execution_count": 4,
   "id": "065d3683",
   "metadata": {
    "scrolled": false
   },
   "outputs": [
    {
     "data": {
      "text/html": [
       "<div>\n",
       "<style scoped>\n",
       "    .dataframe tbody tr th:only-of-type {\n",
       "        vertical-align: middle;\n",
       "    }\n",
       "\n",
       "    .dataframe tbody tr th {\n",
       "        vertical-align: top;\n",
       "    }\n",
       "\n",
       "    .dataframe thead th {\n",
       "        text-align: right;\n",
       "    }\n",
       "</style>\n",
       "<table border=\"1\" class=\"dataframe\">\n",
       "  <thead>\n",
       "    <tr style=\"text-align: right;\">\n",
       "      <th></th>\n",
       "      <th>date</th>\n",
       "      <th>cutlery</th>\n",
       "      <th>tips</th>\n",
       "      <th>order_price</th>\n",
       "      <th>uid</th>\n",
       "      <th>order_id</th>\n",
       "    </tr>\n",
       "  </thead>\n",
       "  <tbody>\n",
       "    <tr>\n",
       "      <th>0</th>\n",
       "      <td>2022-01-17 06:38:43</td>\n",
       "      <td>3</td>\n",
       "      <td>100</td>\n",
       "      <td>1001</td>\n",
       "      <td>120967</td>\n",
       "      <td>73041443</td>\n",
       "    </tr>\n",
       "    <tr>\n",
       "      <th>1</th>\n",
       "      <td>2022-01-23 11:09:22</td>\n",
       "      <td>4</td>\n",
       "      <td>110</td>\n",
       "      <td>309</td>\n",
       "      <td>325757</td>\n",
       "      <td>60500835</td>\n",
       "    </tr>\n",
       "    <tr>\n",
       "      <th>2</th>\n",
       "      <td>2022-01-24 19:40:03</td>\n",
       "      <td>1</td>\n",
       "      <td>10</td>\n",
       "      <td>891</td>\n",
       "      <td>986730</td>\n",
       "      <td>43230531</td>\n",
       "    </tr>\n",
       "    <tr>\n",
       "      <th>3</th>\n",
       "      <td>2022-01-14 18:01:22</td>\n",
       "      <td>5</td>\n",
       "      <td>70</td>\n",
       "      <td>749</td>\n",
       "      <td>868648</td>\n",
       "      <td>46180789</td>\n",
       "    </tr>\n",
       "    <tr>\n",
       "      <th>4</th>\n",
       "      <td>2022-01-19 22:32:43</td>\n",
       "      <td>2</td>\n",
       "      <td>10</td>\n",
       "      <td>469</td>\n",
       "      <td>863523</td>\n",
       "      <td>59266169</td>\n",
       "    </tr>\n",
       "    <tr>\n",
       "      <th>...</th>\n",
       "      <td>...</td>\n",
       "      <td>...</td>\n",
       "      <td>...</td>\n",
       "      <td>...</td>\n",
       "      <td>...</td>\n",
       "      <td>...</td>\n",
       "    </tr>\n",
       "    <tr>\n",
       "      <th>26052</th>\n",
       "      <td>2022-01-04 05:21:39</td>\n",
       "      <td>4</td>\n",
       "      <td>10</td>\n",
       "      <td>763</td>\n",
       "      <td>182587</td>\n",
       "      <td>85041983</td>\n",
       "    </tr>\n",
       "    <tr>\n",
       "      <th>26053</th>\n",
       "      <td>2022-01-18 14:43:12</td>\n",
       "      <td>3</td>\n",
       "      <td>60</td>\n",
       "      <td>790</td>\n",
       "      <td>187031</td>\n",
       "      <td>47894568</td>\n",
       "    </tr>\n",
       "    <tr>\n",
       "      <th>26054</th>\n",
       "      <td>2022-01-26 18:08:02</td>\n",
       "      <td>1</td>\n",
       "      <td>90</td>\n",
       "      <td>502</td>\n",
       "      <td>247419</td>\n",
       "      <td>75350869</td>\n",
       "    </tr>\n",
       "    <tr>\n",
       "      <th>26055</th>\n",
       "      <td>2022-01-18 05:55:09</td>\n",
       "      <td>2</td>\n",
       "      <td>80</td>\n",
       "      <td>418</td>\n",
       "      <td>474601</td>\n",
       "      <td>79438423</td>\n",
       "    </tr>\n",
       "    <tr>\n",
       "      <th>26056</th>\n",
       "      <td>2022-01-09 01:06:30</td>\n",
       "      <td>2</td>\n",
       "      <td>50</td>\n",
       "      <td>802</td>\n",
       "      <td>898956</td>\n",
       "      <td>87138202</td>\n",
       "    </tr>\n",
       "  </tbody>\n",
       "</table>\n",
       "<p>26057 rows × 6 columns</p>\n",
       "</div>"
      ],
      "text/plain": [
       "                      date  cutlery  tips  order_price     uid  order_id\n",
       "0      2022-01-17 06:38:43        3   100         1001  120967  73041443\n",
       "1      2022-01-23 11:09:22        4   110          309  325757  60500835\n",
       "2      2022-01-24 19:40:03        1    10          891  986730  43230531\n",
       "3      2022-01-14 18:01:22        5    70          749  868648  46180789\n",
       "4      2022-01-19 22:32:43        2    10          469  863523  59266169\n",
       "...                    ...      ...   ...          ...     ...       ...\n",
       "26052  2022-01-04 05:21:39        4    10          763  182587  85041983\n",
       "26053  2022-01-18 14:43:12        3    60          790  187031  47894568\n",
       "26054  2022-01-26 18:08:02        1    90          502  247419  75350869\n",
       "26055  2022-01-18 05:55:09        2    80          418  474601  79438423\n",
       "26056  2022-01-09 01:06:30        2    50          802  898956  87138202\n",
       "\n",
       "[26057 rows x 6 columns]"
      ]
     },
     "execution_count": 4,
     "metadata": {},
     "output_type": "execute_result"
    }
   ],
   "source": [
    "import pandas as pd\n",
    "import numpy as np\n",
    "import seaborn as sns\n",
    "import matplotlib.pyplot as plt\n",
    "df = pd.read_csv(r'C:\\Users\\nasty\\Downloads\\Telegram Desktop\\sc.csv')\n",
    "df"
   ]
  },
  {
   "cell_type": "code",
   "execution_count": 155,
   "id": "812a9145",
   "metadata": {
    "scrolled": false
   },
   "outputs": [
    {
     "data": {
      "text/plain": [
       "day\n",
       "2022-01-01    3506\n",
       "2022-01-27     794\n",
       "2022-01-24     793\n",
       "2022-01-26     792\n",
       "2022-01-03     785\n",
       "Name: order_id, dtype: int64"
      ]
     },
     "execution_count": 155,
     "metadata": {},
     "output_type": "execute_result"
    }
   ],
   "source": [
    "df['date'] = pd.to_datetime(df['date'])\n",
    "df['day'] = df['date'].dt.date\n",
    "df_days = df.loc[df['day'] != 1]\n",
    "df_grouped = df_days.groupby('day')['order_id'].count()\n",
    "df_sorted = df_grouped.sort_values(ascending=False)\n",
    "top5_days = df_sorted.head(5)\n",
    "top5_days"
   ]
  },
  {
   "cell_type": "code",
   "execution_count": 156,
   "id": "c50789aa",
   "metadata": {},
   "outputs": [],
   "source": [
    "df['date'] = pd.to_datetime(df['date'])\n",
    "df['dt2'] = pd.to_datetime(df['date']).dt.strftime('%Y-%m-%d')\n",
    "\n",
    "df_january = df.loc[df['date'].dt.month == 1]"
   ]
  },
  {
   "cell_type": "code",
   "execution_count": 157,
   "id": "3ae95138",
   "metadata": {},
   "outputs": [],
   "source": [
    "grouped_data = df_january.groupby(df_january['date'].dt.day)\n",
    "\n",
    "df_day = df_january.loc[df_january['date'].dt.day == 1] \n",
    "\n",
    "jan1_data = df_january[df_january['date'].dt.day == 1]"
   ]
  },
  {
   "cell_type": "markdown",
   "id": "1c5374f8",
   "metadata": {},
   "source": [
    "! Количество order_price == 0 за весь январь и за 01.01.2020 одинаковое => 01.01.2020 скорее всего был какой то сбой, вызвавший ошибочные значения"
   ]
  },
  {
   "cell_type": "code",
   "execution_count": 94,
   "id": "19e3f59f",
   "metadata": {},
   "outputs": [
    {
     "data": {
      "text/plain": [
       "2754"
      ]
     },
     "execution_count": 94,
     "metadata": {},
     "output_type": "execute_result"
    }
   ],
   "source": [
    "len(df_january[df_january['order_price'] == 0])"
   ]
  },
  {
   "cell_type": "code",
   "execution_count": 95,
   "id": "b124a44c",
   "metadata": {},
   "outputs": [
    {
     "data": {
      "text/plain": [
       "2754"
      ]
     },
     "execution_count": 95,
     "metadata": {},
     "output_type": "execute_result"
    }
   ],
   "source": [
    "len(jan1_data[jan1_data['order_price'] == 0])"
   ]
  },
  {
   "cell_type": "markdown",
   "id": "e1a3c60b",
   "metadata": {},
   "source": [
    "# 1) У всех ли order_price == 0?\n",
    "Посмотрим распределение order_price в течение 1.01.2020\n",
    "\n",
    "Видим, что не все order_price 1.01.2020 == 0."
   ]
  },
  {
   "cell_type": "code",
   "execution_count": 9,
   "id": "5c63848e",
   "metadata": {},
   "outputs": [
    {
     "data": {
      "text/html": [
       "<div>\n",
       "<style scoped>\n",
       "    .dataframe tbody tr th:only-of-type {\n",
       "        vertical-align: middle;\n",
       "    }\n",
       "\n",
       "    .dataframe tbody tr th {\n",
       "        vertical-align: top;\n",
       "    }\n",
       "\n",
       "    .dataframe thead th {\n",
       "        text-align: right;\n",
       "    }\n",
       "</style>\n",
       "<table border=\"1\" class=\"dataframe\">\n",
       "  <thead>\n",
       "    <tr style=\"text-align: right;\">\n",
       "      <th></th>\n",
       "      <th>date</th>\n",
       "      <th>cutlery</th>\n",
       "      <th>tips</th>\n",
       "      <th>order_price</th>\n",
       "      <th>uid</th>\n",
       "      <th>order_id</th>\n",
       "      <th>dt2</th>\n",
       "    </tr>\n",
       "  </thead>\n",
       "  <tbody>\n",
       "    <tr>\n",
       "      <th>6</th>\n",
       "      <td>2022-01-01 08:52:23</td>\n",
       "      <td>4</td>\n",
       "      <td>0</td>\n",
       "      <td>0</td>\n",
       "      <td>779134</td>\n",
       "      <td>15841612</td>\n",
       "      <td>2022-01-01</td>\n",
       "    </tr>\n",
       "    <tr>\n",
       "      <th>7</th>\n",
       "      <td>2022-01-01 06:21:14</td>\n",
       "      <td>6</td>\n",
       "      <td>0</td>\n",
       "      <td>0</td>\n",
       "      <td>751242</td>\n",
       "      <td>83957554</td>\n",
       "      <td>2022-01-01</td>\n",
       "    </tr>\n",
       "    <tr>\n",
       "      <th>26</th>\n",
       "      <td>2022-01-01 19:51:35</td>\n",
       "      <td>4</td>\n",
       "      <td>0</td>\n",
       "      <td>0</td>\n",
       "      <td>307676</td>\n",
       "      <td>43056019</td>\n",
       "      <td>2022-01-01</td>\n",
       "    </tr>\n",
       "    <tr>\n",
       "      <th>49</th>\n",
       "      <td>2022-01-01 21:58:31</td>\n",
       "      <td>5</td>\n",
       "      <td>0</td>\n",
       "      <td>0</td>\n",
       "      <td>741562</td>\n",
       "      <td>51847053</td>\n",
       "      <td>2022-01-01</td>\n",
       "    </tr>\n",
       "    <tr>\n",
       "      <th>54</th>\n",
       "      <td>2022-01-01 16:07:42</td>\n",
       "      <td>5</td>\n",
       "      <td>0</td>\n",
       "      <td>0</td>\n",
       "      <td>806167</td>\n",
       "      <td>49572522</td>\n",
       "      <td>2022-01-01</td>\n",
       "    </tr>\n",
       "    <tr>\n",
       "      <th>61</th>\n",
       "      <td>2022-01-01 14:22:12</td>\n",
       "      <td>5</td>\n",
       "      <td>0</td>\n",
       "      <td>0</td>\n",
       "      <td>591476</td>\n",
       "      <td>75539071</td>\n",
       "      <td>2022-01-01</td>\n",
       "    </tr>\n",
       "    <tr>\n",
       "      <th>67</th>\n",
       "      <td>2022-01-01 06:42:52</td>\n",
       "      <td>6</td>\n",
       "      <td>0</td>\n",
       "      <td>0</td>\n",
       "      <td>520889</td>\n",
       "      <td>93339208</td>\n",
       "      <td>2022-01-01</td>\n",
       "    </tr>\n",
       "    <tr>\n",
       "      <th>82</th>\n",
       "      <td>2022-01-01 07:56:22</td>\n",
       "      <td>4</td>\n",
       "      <td>20</td>\n",
       "      <td>620</td>\n",
       "      <td>983448</td>\n",
       "      <td>75785590</td>\n",
       "      <td>2022-01-01</td>\n",
       "    </tr>\n",
       "    <tr>\n",
       "      <th>83</th>\n",
       "      <td>2022-01-01 07:39:41</td>\n",
       "      <td>4</td>\n",
       "      <td>0</td>\n",
       "      <td>0</td>\n",
       "      <td>994796</td>\n",
       "      <td>43661893</td>\n",
       "      <td>2022-01-01</td>\n",
       "    </tr>\n",
       "    <tr>\n",
       "      <th>93</th>\n",
       "      <td>2022-01-01 01:00:41</td>\n",
       "      <td>5</td>\n",
       "      <td>0</td>\n",
       "      <td>0</td>\n",
       "      <td>246892</td>\n",
       "      <td>87751572</td>\n",
       "      <td>2022-01-01</td>\n",
       "    </tr>\n",
       "  </tbody>\n",
       "</table>\n",
       "</div>"
      ],
      "text/plain": [
       "                  date  cutlery  tips  order_price     uid  order_id  \\\n",
       "6  2022-01-01 08:52:23        4     0            0  779134  15841612   \n",
       "7  2022-01-01 06:21:14        6     0            0  751242  83957554   \n",
       "26 2022-01-01 19:51:35        4     0            0  307676  43056019   \n",
       "49 2022-01-01 21:58:31        5     0            0  741562  51847053   \n",
       "54 2022-01-01 16:07:42        5     0            0  806167  49572522   \n",
       "61 2022-01-01 14:22:12        5     0            0  591476  75539071   \n",
       "67 2022-01-01 06:42:52        6     0            0  520889  93339208   \n",
       "82 2022-01-01 07:56:22        4    20          620  983448  75785590   \n",
       "83 2022-01-01 07:39:41        4     0            0  994796  43661893   \n",
       "93 2022-01-01 01:00:41        5     0            0  246892  87751572   \n",
       "\n",
       "           dt2  \n",
       "6   2022-01-01  \n",
       "7   2022-01-01  \n",
       "26  2022-01-01  \n",
       "49  2022-01-01  \n",
       "54  2022-01-01  \n",
       "61  2022-01-01  \n",
       "67  2022-01-01  \n",
       "82  2022-01-01  \n",
       "83  2022-01-01  \n",
       "93  2022-01-01  "
      ]
     },
     "execution_count": 9,
     "metadata": {},
     "output_type": "execute_result"
    }
   ],
   "source": [
    "jan1_data.head(10)"
   ]
  },
  {
   "cell_type": "code",
   "execution_count": 101,
   "id": "2cae2b2d",
   "metadata": {},
   "outputs": [
    {
     "data": {
      "text/plain": [
       "0      2754\n",
       "710       5\n",
       "731       4\n",
       "610       4\n",
       "640       4\n",
       "       ... \n",
       "314       1\n",
       "916       1\n",
       "484       1\n",
       "305       1\n",
       "490       1\n",
       "Name: order_price, Length: 505, dtype: int64"
      ]
     },
     "execution_count": 101,
     "metadata": {},
     "output_type": "execute_result"
    }
   ],
   "source": [
    "jan1_data['order_price'].value_counts()"
   ]
  },
  {
   "cell_type": "code",
   "execution_count": 10,
   "id": "a4229cc0",
   "metadata": {},
   "outputs": [
    {
     "data": {
      "text/plain": [
       "<AxesSubplot:xlabel='date', ylabel='order_price'>"
      ]
     },
     "execution_count": 10,
     "metadata": {},
     "output_type": "execute_result"
    },
    {
     "data": {
      "image/png": "[encoded data removed]",
      "text/plain": [
       "<Figure size 432x288 with 1 Axes>"
      ]
     },
     "metadata": {
      "needs_background": "light"
     },
     "output_type": "display_data"
    }
   ],
   "source": [
    "sns.scatterplot(x=\"date\", y=\"order_price\", data = jan1_data)"
   ]
  },
  {
   "cell_type": "markdown",
   "id": "5478fc90",
   "metadata": {},
   "source": [
    "# 2) Какой процент таких заказов за весь январь?\n",
    "Считаем процент order_price == 0 от общего кол-ва order_price за январь"
   ]
  },
  {
   "cell_type": "code",
   "execution_count": 11,
   "id": "e16647a7",
   "metadata": {},
   "outputs": [
    {
     "data": {
      "text/plain": [
       "10.569136892197873"
      ]
     },
     "execution_count": 11,
     "metadata": {},
     "output_type": "execute_result"
    }
   ],
   "source": [
    "100 * len(df_january[df_january['order_price'] == 0]) / len(df_january['order_price'])"
   ]
  },
  {
   "cell_type": "markdown",
   "id": "b4c4f607",
   "metadata": {},
   "source": [
    "# 3) Найти, в какие дни у нас есть заказы с ценой == 0"
   ]
  },
  {
   "cell_type": "markdown",
   "id": "a5e12d9b",
   "metadata": {},
   "source": [
    "подтверждение того, что все заказы с order_price == 0 произошли 01.01.2020"
   ]
  },
  {
   "cell_type": "code",
   "execution_count": 12,
   "id": "300d149d",
   "metadata": {},
   "outputs": [
    {
     "data": {
      "text/html": [
       "<div>\n",
       "<style scoped>\n",
       "    .dataframe tbody tr th:only-of-type {\n",
       "        vertical-align: middle;\n",
       "    }\n",
       "\n",
       "    .dataframe tbody tr th {\n",
       "        vertical-align: top;\n",
       "    }\n",
       "\n",
       "    .dataframe thead th {\n",
       "        text-align: right;\n",
       "    }\n",
       "</style>\n",
       "<table border=\"1\" class=\"dataframe\">\n",
       "  <thead>\n",
       "    <tr style=\"text-align: right;\">\n",
       "      <th></th>\n",
       "      <th>date</th>\n",
       "      <th>cutlery</th>\n",
       "      <th>tips</th>\n",
       "      <th>order_price</th>\n",
       "      <th>uid</th>\n",
       "      <th>order_id</th>\n",
       "      <th>dt2</th>\n",
       "    </tr>\n",
       "  </thead>\n",
       "  <tbody>\n",
       "    <tr>\n",
       "      <th>6</th>\n",
       "      <td>2022-01-01 08:52:23</td>\n",
       "      <td>4</td>\n",
       "      <td>0</td>\n",
       "      <td>0</td>\n",
       "      <td>779134</td>\n",
       "      <td>15841612</td>\n",
       "      <td>2022-01-01</td>\n",
       "    </tr>\n",
       "    <tr>\n",
       "      <th>7</th>\n",
       "      <td>2022-01-01 06:21:14</td>\n",
       "      <td>6</td>\n",
       "      <td>0</td>\n",
       "      <td>0</td>\n",
       "      <td>751242</td>\n",
       "      <td>83957554</td>\n",
       "      <td>2022-01-01</td>\n",
       "    </tr>\n",
       "    <tr>\n",
       "      <th>26</th>\n",
       "      <td>2022-01-01 19:51:35</td>\n",
       "      <td>4</td>\n",
       "      <td>0</td>\n",
       "      <td>0</td>\n",
       "      <td>307676</td>\n",
       "      <td>43056019</td>\n",
       "      <td>2022-01-01</td>\n",
       "    </tr>\n",
       "    <tr>\n",
       "      <th>49</th>\n",
       "      <td>2022-01-01 21:58:31</td>\n",
       "      <td>5</td>\n",
       "      <td>0</td>\n",
       "      <td>0</td>\n",
       "      <td>741562</td>\n",
       "      <td>51847053</td>\n",
       "      <td>2022-01-01</td>\n",
       "    </tr>\n",
       "    <tr>\n",
       "      <th>54</th>\n",
       "      <td>2022-01-01 16:07:42</td>\n",
       "      <td>5</td>\n",
       "      <td>0</td>\n",
       "      <td>0</td>\n",
       "      <td>806167</td>\n",
       "      <td>49572522</td>\n",
       "      <td>2022-01-01</td>\n",
       "    </tr>\n",
       "    <tr>\n",
       "      <th>...</th>\n",
       "      <td>...</td>\n",
       "      <td>...</td>\n",
       "      <td>...</td>\n",
       "      <td>...</td>\n",
       "      <td>...</td>\n",
       "      <td>...</td>\n",
       "      <td>...</td>\n",
       "    </tr>\n",
       "    <tr>\n",
       "      <th>26017</th>\n",
       "      <td>2022-01-01 10:44:21</td>\n",
       "      <td>4</td>\n",
       "      <td>0</td>\n",
       "      <td>0</td>\n",
       "      <td>107130</td>\n",
       "      <td>10564056</td>\n",
       "      <td>2022-01-01</td>\n",
       "    </tr>\n",
       "    <tr>\n",
       "      <th>26035</th>\n",
       "      <td>2022-01-01 08:39:20</td>\n",
       "      <td>5</td>\n",
       "      <td>0</td>\n",
       "      <td>0</td>\n",
       "      <td>892785</td>\n",
       "      <td>78217751</td>\n",
       "      <td>2022-01-01</td>\n",
       "    </tr>\n",
       "    <tr>\n",
       "      <th>26040</th>\n",
       "      <td>2022-01-01 02:29:59</td>\n",
       "      <td>4</td>\n",
       "      <td>0</td>\n",
       "      <td>0</td>\n",
       "      <td>776175</td>\n",
       "      <td>23958667</td>\n",
       "      <td>2022-01-01</td>\n",
       "    </tr>\n",
       "    <tr>\n",
       "      <th>26042</th>\n",
       "      <td>2022-01-01 02:51:01</td>\n",
       "      <td>5</td>\n",
       "      <td>0</td>\n",
       "      <td>0</td>\n",
       "      <td>904144</td>\n",
       "      <td>17789596</td>\n",
       "      <td>2022-01-01</td>\n",
       "    </tr>\n",
       "    <tr>\n",
       "      <th>26046</th>\n",
       "      <td>2022-01-01 05:19:26</td>\n",
       "      <td>6</td>\n",
       "      <td>0</td>\n",
       "      <td>0</td>\n",
       "      <td>929908</td>\n",
       "      <td>85220345</td>\n",
       "      <td>2022-01-01</td>\n",
       "    </tr>\n",
       "  </tbody>\n",
       "</table>\n",
       "<p>2754 rows × 7 columns</p>\n",
       "</div>"
      ],
      "text/plain": [
       "                     date  cutlery  tips  order_price     uid  order_id  \\\n",
       "6     2022-01-01 08:52:23        4     0            0  779134  15841612   \n",
       "7     2022-01-01 06:21:14        6     0            0  751242  83957554   \n",
       "26    2022-01-01 19:51:35        4     0            0  307676  43056019   \n",
       "49    2022-01-01 21:58:31        5     0            0  741562  51847053   \n",
       "54    2022-01-01 16:07:42        5     0            0  806167  49572522   \n",
       "...                   ...      ...   ...          ...     ...       ...   \n",
       "26017 2022-01-01 10:44:21        4     0            0  107130  10564056   \n",
       "26035 2022-01-01 08:39:20        5     0            0  892785  78217751   \n",
       "26040 2022-01-01 02:29:59        4     0            0  776175  23958667   \n",
       "26042 2022-01-01 02:51:01        5     0            0  904144  17789596   \n",
       "26046 2022-01-01 05:19:26        6     0            0  929908  85220345   \n",
       "\n",
       "              dt2  \n",
       "6      2022-01-01  \n",
       "7      2022-01-01  \n",
       "26     2022-01-01  \n",
       "49     2022-01-01  \n",
       "54     2022-01-01  \n",
       "...           ...  \n",
       "26017  2022-01-01  \n",
       "26035  2022-01-01  \n",
       "26040  2022-01-01  \n",
       "26042  2022-01-01  \n",
       "26046  2022-01-01  \n",
       "\n",
       "[2754 rows x 7 columns]"
      ]
     },
     "execution_count": 12,
     "metadata": {},
     "output_type": "execute_result"
    }
   ],
   "source": [
    "df_january[df_january['order_price'] == 0]"
   ]
  },
  {
   "cell_type": "markdown",
   "id": "d3bd403c",
   "metadata": {},
   "source": [
    "# 4) Топ 100 пользователей, которые пользуются доставкой"
   ]
  },
  {
   "cell_type": "code",
   "execution_count": 13,
   "id": "b4eb77d1",
   "metadata": {},
   "outputs": [
    {
     "data": {
      "text/plain": [
       "540487    13\n",
       "260478    11\n",
       "375405    11\n",
       "509314    11\n",
       "158480    10\n",
       "          ..\n",
       "936369     7\n",
       "810902     7\n",
       "288901     7\n",
       "105283     7\n",
       "480602     7\n",
       "Name: uid, Length: 100, dtype: int64"
      ]
     },
     "execution_count": 13,
     "metadata": {},
     "output_type": "execute_result"
    }
   ],
   "source": [
    "df_january['uid'].value_counts()[:100]"
   ]
  },
  {
   "cell_type": "markdown",
   "id": "52874fc0",
   "metadata": {},
   "source": [
    "# 5) Топ 10 пользователей, которые заказывают больше всего столовых приборов?"
   ]
  },
  {
   "cell_type": "code",
   "execution_count": 14,
   "id": "fd9f4e10",
   "metadata": {},
   "outputs": [
    {
     "data": {
      "text/plain": [
       "uid\n",
       "540487    52\n",
       "375405    41\n",
       "509314    37\n",
       "260478    37\n",
       "158480    35\n",
       "463468    33\n",
       "800675    33\n",
       "841414    32\n",
       "131564    32\n",
       "664498    32\n",
       "Name: cutlery, dtype: int64"
      ]
     },
     "execution_count": 14,
     "metadata": {},
     "output_type": "execute_result"
    }
   ],
   "source": [
    "df_january.groupby(['uid'])['cutlery'].sum().sort_values(ascending=False)[:10]"
   ]
  },
  {
   "cell_type": "markdown",
   "id": "d03e0dc8",
   "metadata": {},
   "source": [
    "# 6) Топ 20 пользователей, оставивших чаевые"
   ]
  },
  {
   "cell_type": "code",
   "execution_count": 114,
   "id": "743d62fe",
   "metadata": {
    "scrolled": true
   },
   "outputs": [
    {
     "data": {
      "text/plain": [
       "uid\n",
       "540487    7742\n",
       "983063    6383\n",
       "733293    6336\n",
       "480081    6278\n",
       "699530    6068\n",
       "509314    6051\n",
       "826714    6010\n",
       "463654    5978\n",
       "633000    5978\n",
       "420988    5962\n",
       "361102    5924\n",
       "218322    5905\n",
       "112472    5881\n",
       "942480    5866\n",
       "500277    5831\n",
       "696494    5825\n",
       "598488    5818\n",
       "259133    5812\n",
       "966508    5806\n",
       "442185    5800\n",
       "Name: order_price, dtype: int64"
      ]
     },
     "execution_count": 114,
     "metadata": {},
     "output_type": "execute_result"
    }
   ],
   "source": [
    "df.groupby(['uid'])['order_price'].sum().sort_values(ascending=False)[:20]"
   ]
  },
  {
   "cell_type": "code",
   "execution_count": 109,
   "id": "d76bda32",
   "metadata": {},
   "outputs": [
    {
     "data": {
      "text/plain": [
       "uid\n",
       "540487    980\n",
       "260478    680\n",
       "509314    670\n",
       "375405    660\n",
       "652620    650\n",
       "437801    620\n",
       "323227    620\n",
       "960324    620\n",
       "415022    620\n",
       "463654    620\n",
       "757336    610\n",
       "852397    610\n",
       "923813    610\n",
       "857669    610\n",
       "253222    610\n",
       "401983    610\n",
       "341681    610\n",
       "578890    610\n",
       "755822    610\n",
       "884410    610\n",
       "Name: tips, dtype: int64"
      ]
     },
     "execution_count": 109,
     "metadata": {},
     "output_type": "execute_result"
    }
   ],
   "source": [
    "df_january.groupby(['uid'])['tips'].sum().sort_values(ascending=False)[:20]"
   ]
  },
  {
   "cell_type": "markdown",
   "id": "4ed08e49",
   "metadata": {},
   "source": [
    "# 7) топ 20 дней, когда чаевых было  больше всего? "
   ]
  },
  {
   "cell_type": "code",
   "execution_count": 16,
   "id": "1398fbd9",
   "metadata": {},
   "outputs": [
    {
     "data": {
      "text/plain": [
       "dt2\n",
       "2022-01-26    55290\n",
       "2022-01-27    54560\n",
       "2022-01-01    54390\n",
       "2022-01-24    53760\n",
       "2022-01-25    53030\n",
       "2022-01-02    53000\n",
       "2022-01-05    52700\n",
       "2022-01-31    52600\n",
       "2022-01-16    52220\n",
       "2022-01-12    52200\n",
       "2022-01-17    51800\n",
       "2022-01-30    51700\n",
       "2022-01-07    51470\n",
       "2022-01-08    51410\n",
       "2022-01-28    51370\n",
       "2022-01-03    51230\n",
       "2022-01-21    51210\n",
       "2022-01-29    51150\n",
       "2022-01-06    51100\n",
       "2022-01-20    51050\n",
       "Name: tips, dtype: int64"
      ]
     },
     "execution_count": 16,
     "metadata": {},
     "output_type": "execute_result"
    }
   ],
   "source": [
    "df_january.groupby(['dt2'])['tips'].sum().sort_values(ascending=False)[:20]"
   ]
  },
  {
   "cell_type": "markdown",
   "id": "d4ce8de2",
   "metadata": {},
   "source": [
    "# 8) Какое количество столовых приборов пользуется популярностью?"
   ]
  },
  {
   "cell_type": "code",
   "execution_count": 17,
   "id": "cb980af5",
   "metadata": {},
   "outputs": [
    {
     "data": {
      "text/plain": [
       "4    6552\n",
       "3    5552\n",
       "2    4869\n",
       "1    4068\n",
       "5    3442\n",
       "6    1574\n",
       "Name: cutlery, dtype: int64"
      ]
     },
     "execution_count": 17,
     "metadata": {},
     "output_type": "execute_result"
    }
   ],
   "source": [
    "df_january['cutlery'].value_counts()"
   ]
  },
  {
   "cell_type": "markdown",
   "id": "a463bcb1",
   "metadata": {},
   "source": [
    "4 -    6552"
   ]
  },
  {
   "cell_type": "markdown",
   "id": "75b4901a",
   "metadata": {},
   "source": [
    "# 9) Сколько пользователей в этих данных?"
   ]
  },
  {
   "cell_type": "code",
   "execution_count": 103,
   "id": "2c559867",
   "metadata": {},
   "outputs": [
    {
     "data": {
      "text/plain": [
       "6433"
      ]
     },
     "execution_count": 103,
     "metadata": {},
     "output_type": "execute_result"
    }
   ],
   "source": [
    "df_january['uid'].nunique()"
   ]
  },
  {
   "cell_type": "markdown",
   "id": "eb750345",
   "metadata": {},
   "source": [
    "# 10) Частота осуществления заказов в течение времени суток"
   ]
  },
  {
   "cell_type": "code",
   "execution_count": 125,
   "id": "7294739f",
   "metadata": {},
   "outputs": [
    {
     "data": {
      "text/html": [
       "<div>\n",
       "<style scoped>\n",
       "    .dataframe tbody tr th:only-of-type {\n",
       "        vertical-align: middle;\n",
       "    }\n",
       "\n",
       "    .dataframe tbody tr th {\n",
       "        vertical-align: top;\n",
       "    }\n",
       "\n",
       "    .dataframe thead th {\n",
       "        text-align: right;\n",
       "    }\n",
       "</style>\n",
       "<table border=\"1\" class=\"dataframe\">\n",
       "  <thead>\n",
       "    <tr style=\"text-align: right;\">\n",
       "      <th></th>\n",
       "      <th>interval</th>\n",
       "      <th>count</th>\n",
       "      <th>profit</th>\n",
       "    </tr>\n",
       "  </thead>\n",
       "  <tbody>\n",
       "    <tr>\n",
       "      <th>0</th>\n",
       "      <td>05:00-12:00</td>\n",
       "      <td>7753</td>\n",
       "      <td>26057</td>\n",
       "    </tr>\n",
       "    <tr>\n",
       "      <th>1</th>\n",
       "      <td>12:00-17:00</td>\n",
       "      <td>5288</td>\n",
       "      <td>26057</td>\n",
       "    </tr>\n",
       "    <tr>\n",
       "      <th>2</th>\n",
       "      <td>17:00-00:00</td>\n",
       "      <td>7635</td>\n",
       "      <td>0</td>\n",
       "    </tr>\n",
       "    <tr>\n",
       "      <th>3</th>\n",
       "      <td>00:00-05:00</td>\n",
       "      <td>5381</td>\n",
       "      <td>0</td>\n",
       "    </tr>\n",
       "  </tbody>\n",
       "</table>\n",
       "</div>"
      ],
      "text/plain": [
       "      interval  count  profit\n",
       "0  05:00-12:00   7753   26057\n",
       "1  12:00-17:00   5288   26057\n",
       "2  17:00-00:00   7635       0\n",
       "3  00:00-05:00   5381       0"
      ]
     },
     "execution_count": 125,
     "metadata": {},
     "output_type": "execute_result"
    }
   ],
   "source": [
    "df['hours'] = df['date'].dt.hour\n",
    "i1 = df['hours'].between(5, 11)\n",
    "ii1 = df[i1]['hours'].count()\n",
    "c1 = sum(df['order_price'].value_counts())\n",
    "i2 = df['hours'].between(12, 16)\n",
    "ii2 = df[i2]['hours'].count()\n",
    "c2 = sum(df['order_price'].value_counts())\n",
    "i3 = df['hours'].between(17, 23)\n",
    "i3 = df[i3]['hours'].count()\n",
    "i4 = df['hours'].between(0, 4)\n",
    "i4 = df[i4]['hours'].count()\n",
    "df2 = pd.DataFrame({'interval': ['05:00-12:00', '12:00-17:00', '17:00-00:00','00:00-05:00'], 'count': [ii1,ii2,i3,i4], 'profit': [c1, c2,0,0]})\n",
    "df2"
   ]
  },
  {
   "cell_type": "markdown",
   "id": "1fb4de02",
   "metadata": {},
   "source": [
    "# 11) Топ-10 пользователей, которые потратили наибольшее количество денег в сервисе\n"
   ]
  },
  {
   "cell_type": "code",
   "execution_count": 160,
   "id": "a0961c46",
   "metadata": {},
   "outputs": [
    {
     "data": {
      "text/plain": [
       "uid\n",
       "540487    7742\n",
       "983063    6383\n",
       "733293    6336\n",
       "480081    6278\n",
       "699530    6068\n",
       "509314    6051\n",
       "826714    6010\n",
       "463654    5978\n",
       "633000    5978\n",
       "420988    5962\n",
       "Name: order_price, dtype: int64"
      ]
     },
     "execution_count": 160,
     "metadata": {},
     "output_type": "execute_result"
    }
   ],
   "source": [
    "exp = df.groupby(['uid'])['order_price'].sum().sort_values(ascending=False)[:10]\n",
    "exp"
   ]
  },
  {
   "cell_type": "markdown",
   "id": "97d8c942",
   "metadata": {},
   "source": [
    "# 12) Топ 5 дней, в которые было больше всего заказов? (вывести день и количество заказов)"
   ]
  },
  {
   "cell_type": "code",
   "execution_count": 164,
   "id": "41eb2e21",
   "metadata": {},
   "outputs": [
    {
     "data": {
      "text/plain": [
       "date\n",
       "2022-01-01    3048\n",
       "2022-01-26     762\n",
       "2022-01-03     753\n",
       "2022-01-27     753\n",
       "2022-01-24     752\n",
       "2022-01-25     737\n",
       "2022-01-02     734\n",
       "2022-01-21     733\n",
       "2022-01-05     730\n",
       "2022-01-17     729\n",
       "2022-01-22     725\n",
       "2022-01-07     723\n",
       "2022-01-30     721\n",
       "2022-01-14     721\n",
       "2022-01-31     718\n",
       "2022-01-15     718\n",
       "2022-01-08     711\n",
       "2022-01-29     708\n",
       "2022-01-04     708\n",
       "2022-01-20     701\n",
       "2022-01-06     701\n",
       "2022-01-16     701\n",
       "2022-01-09     700\n",
       "2022-01-12     697\n",
       "2022-01-13     694\n",
       "2022-01-23     691\n",
       "2022-01-28     691\n",
       "2022-01-18     689\n",
       "2022-01-11     687\n",
       "2022-01-19     671\n",
       "Name: order_id, dtype: int64"
      ]
     },
     "execution_count": 164,
     "metadata": {},
     "output_type": "execute_result"
    }
   ],
   "source": [
    "df['date'] = df['date'].dt.date\n",
    "df.groupby(['date'])['order_id'].nunique().sort_values(ascending=False)[:30]"
   ]
  },
  {
   "cell_type": "code",
   "execution_count": null,
   "id": "0c8fba3e",
   "metadata": {},
   "outputs": [],
   "source": []
  }
 ],
 "metadata": {
  "kernelspec": {
   "display_name": "Python 3 (ipykernel)",
   "language": "python",
   "name": "python3"
  },
  "language_info": {
   "codemirror_mode": {
    "name": "ipython",
    "version": 3
   },
   "file_extension": ".py",
   "mimetype": "text/x-python",
   "name": "python",
   "nbconvert_exporter": "python",
   "pygments_lexer": "ipython3",
   "version": "3.9.12"
  }
 },
 "nbformat": 4,
 "nbformat_minor": 5
}
