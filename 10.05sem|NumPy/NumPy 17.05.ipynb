{
 "cells": [
  {
   "cell_type": "code",
   "execution_count": 1,
   "id": "1ffb8249",
   "metadata": {},
   "outputs": [
    {
     "data": {
      "text/plain": [
       "array([['13', '364', 'Region 3'],\n",
       "       ['5', '199', 'Region 4'],\n",
       "       ['14', '284', 'Region 1'],\n",
       "       ['21', '274', 'Region 1'],\n",
       "       ['19', '224', 'Region 4'],\n",
       "       ['9', '103', 'Region 3'],\n",
       "       ['18', '397', 'Region 5'],\n",
       "       ['18', '398', 'Region 2'],\n",
       "       ['7', '258', 'Region 3'],\n",
       "       ['10', '336', 'Region 4'],\n",
       "       ['24', '393', 'Region 4'],\n",
       "       ['6', '330', 'Region 1'],\n",
       "       ['11', '464', 'Region 3'],\n",
       "       ['10', '476', 'Region 4'],\n",
       "       ['16', '275', 'Region 1'],\n",
       "       ['13', '182', 'Region 4'],\n",
       "       ['16', '220', 'Region 2'],\n",
       "       ['2', '289', 'Region 2'],\n",
       "       ['25', '392', 'Region 1'],\n",
       "       ['16', '217', 'Region 1'],\n",
       "       ['2', '286', 'Region 5'],\n",
       "       ['5', '152', 'Region 1'],\n",
       "       ['12', '177', 'Region 5'],\n",
       "       ['19', '170', 'Region 5'],\n",
       "       ['15', '285', 'Region 1'],\n",
       "       ['19', '440', 'Region 3'],\n",
       "       ['14', '428', 'Region 3'],\n",
       "       ['21', '155', 'Region 4'],\n",
       "       ['21', '452', 'Region 3'],\n",
       "       ['17', '314', 'Region 1'],\n",
       "       ['3', '303', 'Region 3'],\n",
       "       ['14', '447', 'Region 2'],\n",
       "       ['13', '472', 'Region 5'],\n",
       "       ['14', '291', 'Region 4'],\n",
       "       ['25', '157', 'Region 4'],\n",
       "       ['4', '162', 'Region 1'],\n",
       "       ['13', '296', 'Region 1'],\n",
       "       ['4', '185', 'Region 5'],\n",
       "       ['16', '395', 'Region 5'],\n",
       "       ['19', '404', 'Region 1'],\n",
       "       ['14', '348', 'Region 3'],\n",
       "       ['2', '286', 'Region 5'],\n",
       "       ['12', '282', 'Region 2'],\n",
       "       ['20', '119', 'Region 1'],\n",
       "       ['9', '472', 'Region 5'],\n",
       "       ['1', '267', 'Region 2'],\n",
       "       ['21', '252', 'Region 2'],\n",
       "       ['10', '151', 'Region 2'],\n",
       "       ['16', '160', 'Region 2'],\n",
       "       ['4', '303', 'Region 1']], dtype='<U11')"
      ]
     },
     "execution_count": 1,
     "metadata": {},
     "output_type": "execute_result"
    }
   ],
   "source": [
    "import requests\n",
    "import numpy as np\n",
    "import random\n",
    "\n",
    "\n",
    "def load_countries_name(data_len):\n",
    "    url = \"https://randomuser.me/api/\"\n",
    "    params = {'results': data_len}\n",
    "    response = requests.get(url, params=params)\n",
    "    data = response.json()\n",
    "    result = list(map(lambda x: x['location'], data['results']))  \n",
    "    title = [country['country'] for country in result]\n",
    "    return title\n",
    "    \n",
    "def generate_product_id(data_len):\n",
    "    return list(np.array([random.randint(1, 25) for i in range(data_len)]))\n",
    "\n",
    "def generate_region_sales(data_len):\n",
    "    return list(np.array([round(random.randint(100, 500)) for i in range(data_len)]))\n",
    "    \n",
    "def generate_regions(size, city_names = []):\n",
    "    regions = []\n",
    "    index = 1\n",
    "    unique_cities = list(set(city_names))\n",
    "    for i in range(size):\n",
    "        if len(unique_cities) > 0:\n",
    "            city = unique_cities.pop()\n",
    "            regions.append(f\"Region {index}\")\n",
    "        else:\n",
    "            regions.append(f\"Region {index}\")\n",
    "            index += 1\n",
    "            if index > 5:\n",
    "                index = 1\n",
    "                random.shuffle(regions)\n",
    "    return regions\n",
    "    \n",
    "data_len = 50\n",
    "data = np.column_stack((generate_product_id(data_len), generate_region_sales(data_len), generate_regions(data_len, ['hawaii','tokio','duseldorf','tokio','vashington'])))\n",
    "data"
   ]
  },
  {
   "cell_type": "markdown",
   "id": "e57c046a",
   "metadata": {},
   "source": [
    "# Общая сумма продаж для всех продуктов"
   ]
  },
  {
   "cell_type": "code",
   "execution_count": 2,
   "id": "dcc31253",
   "metadata": {},
   "outputs": [
    {
     "data": {
      "text/plain": [
       "14686"
      ]
     },
     "execution_count": 2,
     "metadata": {},
     "output_type": "execute_result"
    }
   ],
   "source": [
    "m = (data[:,1:-1]).astype(int)\n",
    "columns = np.sum(m, axis = 0)\n",
    "int(columns)"
   ]
  },
  {
   "cell_type": "markdown",
   "id": "dead4014",
   "metadata": {},
   "source": [
    "# Сколько уникальных регионов продаж существует?"
   ]
  },
  {
   "cell_type": "code",
   "execution_count": 3,
   "id": "d19c43e2",
   "metadata": {
    "scrolled": true
   },
   "outputs": [
    {
     "name": "stdout",
     "output_type": "stream",
     "text": [
      "5\n"
     ]
    }
   ],
   "source": [
    "m = data[:,2:]\n",
    "print(len(np.unique(m)))"
   ]
  },
  {
   "cell_type": "markdown",
   "id": "d157bdb1",
   "metadata": {},
   "source": [
    "# Какова средняя сумма продаж на продукт?"
   ]
  },
  {
   "cell_type": "code",
   "execution_count": 4,
   "id": "c03f9ae3",
   "metadata": {},
   "outputs": [
    {
     "data": {
      "text/plain": [
       "293"
      ]
     },
     "execution_count": 4,
     "metadata": {},
     "output_type": "execute_result"
    }
   ],
   "source": [
    "m = data[:,1:-1].astype(int)\n",
    "columns = np.average(m, axis = 0)\n",
    "int(columns)"
   ]
  },
  {
   "cell_type": "markdown",
   "id": "eef1f3d1",
   "metadata": {},
   "source": [
    "# Какой продукт имеет наибольшую сумму продаж?"
   ]
  },
  {
   "cell_type": "code",
   "execution_count": 5,
   "id": "b400af68",
   "metadata": {},
   "outputs": [
    {
     "name": "stdout",
     "output_type": "stream",
     "text": [
      "ID продукта с наибольшей суммой продаж: 10\n"
     ]
    }
   ],
   "source": [
    "sales = data[:, 1].astype(int) \n",
    "max_sale_idx = np.argmax(sales)\n",
    "print(\"ID продукта с наибольшей суммой продаж:\", data[max_sale_idx, 0])"
   ]
  },
  {
   "cell_type": "markdown",
   "id": "bc4525a5",
   "metadata": {},
   "source": [
    "# Рассчитайте сумму продаж для каждого региона продаж. Гистограмма"
   ]
  },
  {
   "cell_type": "code",
   "execution_count": 10,
   "id": "b9d883a2",
   "metadata": {},
   "outputs": [
    {
     "data": {
      "image/png": "[encoded data removed]",
      "text/plain": [
       "<Figure size 432x288 with 1 Axes>"
      ]
     },
     "metadata": {
      "needs_background": "light"
     },
     "output_type": "display_data"
    }
   ],
   "source": [
    "import matplotlib.pyplot as plt\n",
    "\n",
    "r = np.unique(data[:, 2])\n",
    "region_sales = {}\n",
    "for region in r:\n",
    "    region_data = data[data[:, 2] == region]\n",
    "    sales_sum = np.sum(region_data[:, 1].astype(int))\n",
    "    region_sales[region] = sales_sum\n",
    "    \n",
    "region_sales_list = [region_sales[region] for region in r]\n",
    "plt.bar(r, region_sales_list)\n",
    "plt.xlabel('Регион продаж')\n",
    "plt.ylabel('Сумма продаж')\n",
    "plt.title('Продажи по регионам')\n",
    "plt.show()"
   ]
  },
  {
   "cell_type": "markdown",
   "id": "bfaad4e6",
   "metadata": {},
   "source": [
    "# Топ 5 продуктов по продажам. Гистограмма"
   ]
  },
  {
   "cell_type": "code",
   "execution_count": 13,
   "id": "34bbde96",
   "metadata": {},
   "outputs": [
    {
     "data": {
      "image/png": "[encoded data removed]",
      "text/plain": [
       "<Figure size 432x288 with 1 Axes>"
      ]
     },
     "metadata": {},
     "output_type": "display_data"
    }
   ],
   "source": [
    "sales = data[:, 1].astype(int)\n",
    "sorted_data = data[sales.argsort()[::-1]]\n",
    "top5_data = sorted_data[:5]\n",
    "other_sales = sales[5:].sum()\n",
    "labels = [x[0] for x in sorted_data[:5]] + [\"Другие\"]\n",
    "other_sales = sales[5:].sum()\n",
    "values = np.append(sales[:5], other_sales)\n",
    "for i, row in enumerate(sorted_data):\n",
    "    if i < 5:\n",
    "        continue\n",
    "    else:\n",
    "        other_sales += int(row[1])\n",
    "labels[-1] = \"Другие ({0})\".format(other_sales)\n",
    "plt.pie(values, labels=labels, autopct='%1.1f%%')\n",
    "plt.show()"
   ]
  }
 ],
 "metadata": {
  "kernelspec": {
   "display_name": "Python 3 (ipykernel)",
   "language": "python",
   "name": "python3"
  },
  "language_info": {
   "codemirror_mode": {
    "name": "ipython",
    "version": 3
   },
   "file_extension": ".py",
   "mimetype": "text/x-python",
   "name": "python",
   "nbconvert_exporter": "python",
   "pygments_lexer": "ipython3",
   "version": "3.9.12"
  }
 },
 "nbformat": 4,
 "nbformat_minor": 5
}
